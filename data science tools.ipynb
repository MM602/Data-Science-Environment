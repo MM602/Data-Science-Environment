{
 "cells": [
  {
   "cell_type": "markdown",
   "id": "ab4ef0c4-d3c0-4f2c-88f4-a1172ea5f995",
   "metadata": {},
   "source": [
    "Tools for Data Science"
   ]
  },
  {
   "cell_type": "markdown",
   "id": "3248ebc1-7a6b-4523-82a1-161589718443",
   "metadata": {},
   "source": [
    "Introduction: This assignment contains various tools for data science"
   ]
  },
  {
   "cell_type": "markdown",
   "id": "bab608d8-7426-4a63-be48-6557e0d74651",
   "metadata": {
    "tags": []
   },
   "source": [
    "Data Science Languages Include:\n",
    "1. Python \n",
    "2. R\n",
    "3. SQL\n",
    "4. Java\n",
    "5. Scala\n",
    "6. Julia\n",
    "7. C/C++\n",
    "8. MATLAB\n",
    "9. JavaScript\n",
    "10. SAS"
   ]
  },
  {
   "cell_type": "markdown",
   "id": "6b0b98e3-191a-42f8-8dc2-df40767789c6",
   "metadata": {},
   "source": [
    "Data Science Libraries\n",
    "1. TensorFlow\n",
    "2. SciPy\n",
    "3. Pandas\n",
    "4. NumPy\n",
    "5. Matplotlib\n",
    "6. Keras\n",
    "7. SciKit-Learn\n",
    "8. PyTorch"
   ]
  },
  {
   "cell_type": "markdown",
   "id": "6cfed1fa-dc3b-4674-a161-a86860ecff29",
   "metadata": {},
   "source": [
    "Data Science Tools\n",
    "|Python based tools|Open Source Tools|\n",
    "|:----------------:|:---------------:|\n",
    "|Pandas            |Jupyter Notebooks|\n",
    "|Seaborn           |Pytorch          |\n",
    "|Scikit-learn      |MLFlow           |"
   ]
  },
  {
   "cell_type": "markdown",
   "id": "41cd7a54-efcd-4911-9871-42db9d4d5e79",
   "metadata": {},
   "source": [
    " Some examples of arithmetic expression include:\n",
    " \n",
    " f(x)=a_0+∑_(n=1)^∞▒(a_n  cos⁡〖nπx/L〗+b_n  sin⁡〖nπx/L〗 ) \n",
    " \n",
    "(x+a)^n=∑_(k=0)^n▒〖(n¦k) x^k a^(n-k) 〗"
   ]
  },
  {
   "cell_type": "code",
   "execution_count": 23,
   "id": "a2b22a37-3d32-41f7-b1e8-2342735e5d08",
   "metadata": {
    "tags": []
   },
   "outputs": [
    {
     "name": "stdin",
     "output_type": "stream",
     "text": [
      "Enter a number: 3\n"
     ]
    },
    {
     "name": "stdout",
     "output_type": "stream",
     "text": [
      "Double of 3, is 6\n"
     ]
    }
   ],
   "source": [
    "num = input(\"Enter a number:\")    \n",
    "doub = int(num) * 2  # <-- HERE  \n",
    "print(\"Double of {0}, is {1}\".format(num, doub))"
   ]
  },
  {
   "cell_type": "code",
   "execution_count": 21,
   "id": "6fd4ede3-b241-4588-afbc-ee4c512787d7",
   "metadata": {
    "tags": []
   },
   "outputs": [
    {
     "name": "stdout",
     "output_type": "stream",
     "text": [
      "seconds value in hours: 2\n",
      "seconds value in minutes: 46\n",
      "Time in preferred format :- 02:46:40\n"
     ]
    }
   ],
   "source": [
    "def convert(sec):\n",
    "    sec = sec % (24 * 3600)\n",
    "    hour = sec // 3600\n",
    "    sec %= 3600\n",
    "    min = sec // 60\n",
    "    sec %= 60\n",
    "    print(\"seconds value in hours:\",hour)\n",
    "    print(\"seconds value in minutes:\",min)\n",
    "    return \"%02d:%02d:%02d\" % (hour, min, sec) \n",
    "\n",
    "n = 10000\n",
    "print(\"Time in preferred format :-\",convert(n))"
   ]
  },
  {
   "cell_type": "markdown",
   "id": "31e1bf74-252c-416c-a6b8-19c6c0bf84cf",
   "metadata": {},
   "source": [
    "Objectives\n",
    "1. To learn the tools for data science\n",
    "2. To understand how libraries are used in data science"
   ]
  },
  {
   "cell_type": "markdown",
   "id": "462707df-269f-47bd-8d93-0ef6863cb1ca",
   "metadata": {},
   "source": [
    "Author: \n",
    "\n",
    "Duncan Mathenge"
   ]
  },
  {
   "cell_type": "code",
   "execution_count": null,
   "id": "c2093614-09b4-4073-8e82-470961c95e92",
   "metadata": {},
   "outputs": [],
   "source": []
  }
 ],
 "metadata": {
  "kernelspec": {
   "display_name": "Python",
   "language": "python",
   "name": "conda-env-python-py"
  },
  "language_info": {
   "codemirror_mode": {
    "name": "ipython",
    "version": 3
   },
   "file_extension": ".py",
   "mimetype": "text/x-python",
   "name": "python",
   "nbconvert_exporter": "python",
   "pygments_lexer": "ipython3",
   "version": "3.7.12"
  }
 },
 "nbformat": 4,
 "nbformat_minor": 5
}
